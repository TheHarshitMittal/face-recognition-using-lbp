{
 "cells": [
  {
   "cell_type": "code",
   "execution_count": 1,
   "id": "ee922493-0e03-42ac-8b0d-cdf709049c9e",
   "metadata": {},
   "outputs": [],
   "source": [
    "import numpy as np\n",
    "import pandas as pd\n",
    "import matplotlib.pyplot as plt\n",
    "from sklearn.model_selection import train_test_split\n",
    "from sklearn.decomposition import PCA\n",
    "from sklearn.svm import SVC\n",
    "from sklearn.naive_bayes import GaussianNB\n",
    "from sklearn.neighbors import KNeighborsClassifier\n",
    "from sklearn.tree import DecisionTreeClassifier\n",
    "from sklearn.linear_model import LogisticRegression\n",
    "from sklearn.discriminant_analysis import LinearDiscriminantAnalysis\n",
    "from sklearn import metrics\n",
    "from sklearn.datasets import fetch_olivetti_faces\n",
    "import matplotlib.pyplot as plt\n",
    "from skimage import feature\n",
    "import numpy as np\n",
    "import cv2\n",
    "import os"
   ]
  },
  {
   "cell_type": "code",
   "execution_count": 2,
   "id": "f508496a-a49d-4044-9d76-d8033aecf022",
   "metadata": {},
   "outputs": [
    {
     "name": "stdout",
     "output_type": "stream",
     "text": [
      "There are 400 images in the dataset\n",
      "unique target number: [ 0  1  2  3  4  5  6  7  8  9 10 11 12 13 14 15 16 17 18 19 20 21 22 23\n",
      " 24 25 26 27 28 29 30 31 32 33 34 35 36 37 38 39]\n",
      "X_train shape: (280, 4096)\n",
      "y_train shape:(280,)\n"
     ]
    }
   ],
   "source": [
    "image_data = fetch_olivetti_faces()\n",
    "X, target = image_data.data, image_data.target\n",
    "print(\"There are {} images in the dataset\".format(len(X)))\n",
    "print(\"unique target number:\",np.unique(target))\n",
    "X_train, X_test, y_train, y_test=train_test_split(X, target, test_size=0.3, stratify=target, random_state=0)\n",
    "print(\"X_train shape:\",X_train.shape)\n",
    "print(\"y_train shape:{}\".format(y_train.shape))"
   ]
  },
  {
   "cell_type": "code",
   "execution_count": 3,
   "id": "41bbae8b-6267-4a12-9cb3-f1bf7656ce2e",
   "metadata": {},
   "outputs": [],
   "source": [
    "class LocalBinaryPatterns:\n",
    "  def __init__(self , numPoints , radius):\n",
    "    self.numPoints = numPoints\n",
    "    self.radius = radius\n",
    "\n",
    "  def describe(self , image , eps=1e-7):\n",
    "    lbp = feature.local_binary_pattern(image , self.numPoints , self.radius)\n",
    "    return lbp"
   ]
  },
  {
   "cell_type": "code",
   "execution_count": 4,
   "id": "4d71f31f-cdb5-4577-9945-50f582006fcf",
   "metadata": {},
   "outputs": [],
   "source": [
    "desc = LocalBinaryPatterns(9 , 2)"
   ]
  },
  {
   "cell_type": "code",
   "execution_count": 5,
   "id": "24ce4820-f5ca-4fe3-9060-d088be7bb651",
   "metadata": {},
   "outputs": [],
   "source": [
    "lbp_1 = desc.describe(X_train)\n",
    "lbp_2 = desc.describe(X_test)\n"
   ]
  },
  {
   "cell_type": "code",
   "execution_count": 9,
   "id": "5f08e64d-370d-4c8a-bcc0-abb1cb6cef35",
   "metadata": {},
   "outputs": [
    {
     "name": "stdout",
     "output_type": "stream",
     "text": [
      "accuracy score:0.608333\n"
     ]
    }
   ],
   "source": [
    "clf = SVC()\n",
    "clf.fit(lbp_1, y_train)\n",
    "y_pred = clf.predict(lbp_2)\n",
    "print(\"accuracy score:{:.6f}\".format(metrics.accuracy_score(y_test, y_pred)))"
   ]
  },
  {
   "cell_type": "code",
   "execution_count": 10,
   "id": "afa4e63f-e42c-448a-bd12-6958c0bd81b7",
   "metadata": {},
   "outputs": [
    {
     "name": "stdout",
     "output_type": "stream",
     "text": [
      "Accuracy score:0.900000\n"
     ]
    }
   ],
   "source": [
    "lr=LinearDiscriminantAnalysis()\n",
    "lr.fit(lbp_1, y_train)\n",
    "y_pred=lr.predict(lbp_2)\n",
    "print(\"Accuracy score:{:.6f}\".format(metrics.accuracy_score(y_test, y_pred)))"
   ]
  },
  {
   "cell_type": "code",
   "execution_count": null,
   "id": "51ca0108-b7c3-49a9-a3b2-9a887dcbeefb",
   "metadata": {},
   "outputs": [],
   "source": []
  }
 ],
 "metadata": {
  "kernelspec": {
   "display_name": "Python 3 (ipykernel)",
   "language": "python",
   "name": "python3"
  },
  "language_info": {
   "codemirror_mode": {
    "name": "ipython",
    "version": 3
   },
   "file_extension": ".py",
   "mimetype": "text/x-python",
   "name": "python",
   "nbconvert_exporter": "python",
   "pygments_lexer": "ipython3",
   "version": "3.9.13"
  }
 },
 "nbformat": 4,
 "nbformat_minor": 5
}
